{
  "nbformat": 4,
  "nbformat_minor": 0,
  "metadata": {
    "colab": {
      "provenance": [],
      "authorship_tag": "ABX9TyP4p3wc8KXKStrDg5kM3DCq",
      "include_colab_link": true
    },
    "kernelspec": {
      "name": "python3",
      "display_name": "Python 3"
    },
    "language_info": {
      "name": "python"
    }
  },
  "cells": [
    {
      "cell_type": "markdown",
      "metadata": {
        "id": "view-in-github",
        "colab_type": "text"
      },
      "source": [
        "<a href=\"https://colab.research.google.com/github/jeonghoney/First-Code/blob/main/Untitled0.ipynb\" target=\"_parent\"><img src=\"https://colab.research.google.com/assets/colab-badge.svg\" alt=\"Open In Colab\"/></a>"
      ]
    },
    {
      "cell_type": "markdown",
      "source": [
        "1,배열의 선언\n",
        " - 일반 변수의 선연 : 변수명 = 변수의 값\n",
        " - 배열의 변수 선언 : 변수명 = [,,]"
      ],
      "metadata": {
        "id": "5ew16ajxMSeI"
      }
    },
    {
      "cell_type": "code",
      "execution_count": null,
      "metadata": {
        "colab": {
          "base_uri": "https://localhost:8080/"
        },
        "id": "KcOttjPLMRP7",
        "outputId": "aeadc732-de05-4807-992b-05ae6d132ec6"
      },
      "outputs": [
        {
          "output_type": "stream",
          "name": "stdout",
          "text": [
            "아바타\n",
            "어벤져스\n"
          ]
        }
      ],
      "source": [
        "movie_list = [\"아바타\", \"타이타닉\", \"스타워즈\", \"주라기월드\", \"어벤져스\"]   # 영화 제목들을 담은 리스트를 생성합니다.\n",
        "print(movie_list[0])                                                        # movie_list 리스트의 첫 번째 요소를 출력합니다. 즉, \"아바타\"가 출력됩니다.\n",
        "print(movie_list[4])                                                        # movie_list 리스트의 다섯 번째 요소를 출력합니다. 즉, \"어벤져스\"가 출력됩니다."
      ]
    },
    {
      "cell_type": "markdown",
      "source": [
        "2.요일을 배열로 선언하라.\n",
        " - 변수명 : day_list\n",
        " - 요일 : 월(Mon.), 화(Tues.), 수(Wed.), 목(Thur.), 금(Fri.), 토(Sat.), 일(Sun.)"
      ],
      "metadata": {
        "id": "z3SHp8-tOeOw"
      }
    },
    {
      "cell_type": "code",
      "source": [
        "day_list = [\"월(Mon.)\", \"화(Tues.)\", \"수(Wed.)\", \"목(Thur.)\", \"금(Fri.)\", \"토(Sat.)\", \"일(Sun.)\"]  # 요일을 담은 리스트를 생성합니다.\n",
        "print(day_list[0])                                                                                 # day_list 리스트의 첫 번째 요소를 출력합니다. 즉, \"월(Mon.)\"이 출력됩니다.\n",
        "print(day_list[1])                                                                                 # day_list 리스트의 두 번째 요소를 출력합니다. 즉, \"화(Tues.)\"가 출력됩니다.\n",
        "print(day_list[2])                                                                                 # day_list 리스트의 세 번째 요소를 출력합니다. 즉, \"수(Wed.)\"가 출력됩니다.\n",
        "print(day_list[3])                                                                                 # day_list 리스트의 네 번째 요소를 출력합니다. 즉, \"목(Thur.)\"이 출력됩니다.\n",
        "print(day_list[4])                                                                                 # day_list 리스트의 다섯 번째 요소를 출력합니다. 즉, \"금(Fri.)\"가 출력됩니다.\n",
        "print(day_list[5])                                                                                 # day_list 리스트의 여섯 번째 요소를 출력합니다. 즉, \"토(Sat.)\"이 출력됩니다.\n",
        "print(day_list[6])                                                                                 # day_list 리스트의 일곱 번째 요소를 출력합니다. 즉, \"일(Sun.)\"이 출력됩니다."
      ],
      "metadata": {
        "colab": {
          "base_uri": "https://localhost:8080/"
        },
        "id": "kW2RnSL3Pfmv",
        "outputId": "7b1331c1-4d5f-4fbc-956f-ba85265c1139"
      },
      "execution_count": null,
      "outputs": [
        {
          "output_type": "stream",
          "name": "stdout",
          "text": [
            "월(Mon.)\n",
            "화(Tues.)\n",
            "수(Wed.)\n",
            "목(Thur.)\n",
            "금(Fri.)\n",
            "토(Sat.)\n",
            "일(Sun.)\n"
          ]
        }
      ]
    }
  ]
}