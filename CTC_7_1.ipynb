{
  "nbformat": 4,
  "nbformat_minor": 0,
  "metadata": {
    "colab": {
      "provenance": [],
      "authorship_tag": "ABX9TyPQk+zz4DDQBYQ68MoEVgD3",
      "include_colab_link": true
    },
    "kernelspec": {
      "name": "python3",
      "display_name": "Python 3"
    },
    "language_info": {
      "name": "python"
    }
  },
  "cells": [
    {
      "cell_type": "markdown",
      "metadata": {
        "id": "view-in-github",
        "colab_type": "text"
      },
      "source": [
        "<a href=\"https://colab.research.google.com/github/jeonghoney/First-Code/blob/main/CTC_7_1.ipynb\" target=\"_parent\"><img src=\"https://colab.research.google.com/assets/colab-badge.svg\" alt=\"Open In Colab\"/></a>"
      ]
    },
    {
      "cell_type": "markdown",
      "source": [
        "사용자로부터 3개의 값(x,y,z)을 입력받아서 각각 1씩 증가되고, 출력되는 코드작성\n"
      ],
      "metadata": {
        "id": "iglFgC4aG7o8"
      }
    },
    {
      "cell_type": "code",
      "execution_count": null,
      "metadata": {
        "colab": {
          "base_uri": "https://localhost:8080/"
        },
        "id": "7vx4mbfhG7HR",
        "outputId": "73b2976f-ade5-4521-f9fa-1ac450fb1482"
      },
      "outputs": [
        {
          "output_type": "stream",
          "name": "stdout",
          "text": [
            "x의 값을 입력하시오.:1\n",
            "y의 값을 입력하시오.:2\n",
            "z의 값을 입력하시오.:3\n",
            "x의 값은2이며, y의 값은3이고, z의 값은4이다.\n"
          ]
        }
      ],
      "source": [
        "x = int(input(\"x의 값을 입력하시오: \"))                          # 사용자로부터 정수 값을 입력받아 x 변수에 저장합니다.\n",
        "y = int(input(\"y의 값을 입력하시오: \"))                          # 사용자로부터 정수 값을 입력받아 y 변수에 저장합니다.\n",
        "z = int(input(\"z의 값을 입력하시오: \"))                          # 사용자로부터 정수 값을 입력받아 z 변수에 저장합니다.\n",
        "x = x + 1                                                        # x 값을 1 증가시킵니다.\n",
        "y = y + 1                                                        # y 값을 1 증가시킵니다.\n",
        "z = z + 1                                                        # z 값을 1 증가시킵니다.\n",
        "print(f'x의 값은 {x}이며, y의 값은 {y}이고, z의 값은 {z}이다.')  # 증가된 x, y, z 값을 출력합니다."
      ]
    },
    {
      "cell_type": "markdown",
      "source": [
        "2. 알바생의 시급과 시간을 계산하여 월급을 출력하는 코드"
      ],
      "metadata": {
        "id": "_xItfXsrJMD1"
      }
    },
    {
      "cell_type": "code",
      "source": [
        "hours_worked = int(input(\"일한 시간을 입력하시오: \"))                                             # 사용자로부터 일한 시간을 입력받아 hours_worked 변수에 저장합니다.\n",
        "pay_rate = int(input(\"시급을 입력하시오(23기준 9620원): \"))                                       # 사용자로부터 시급을 입력받아 pay_rate 변수에 저장합니다.\n",
        "monthly_pay = hours_worked * pay_rate                                                             # 일한 시간과 시급을 곱하여 월급여를 계산하여 monthly_pay 변수에 저장합니다.\n",
        "print(f'일한 시간은 {hours_worked}이고, 시급은 {pay_rate}원이며, 월급여는 {monthly_pay}입니다.')  # 일한 시간, 시급, 월급여를 포맷팅하여 출력합니다."
      ],
      "metadata": {
        "colab": {
          "base_uri": "https://localhost:8080/"
        },
        "id": "QkxKcMHaJeP6",
        "outputId": "7068dd32-2dff-46af-a8d8-caa96c77a97f"
      },
      "execution_count": null,
      "outputs": [
        {
          "output_type": "stream",
          "name": "stdout",
          "text": [
            "일한 시간을 입력하시오.:10\n",
            "시급을 입력하시오(23기준 9620원):9620\n",
            "일한시간은 10이고, 시급은 9620원이며, 월급여는 96200입니다.\n"
          ]
        }
      ]
    },
    {
      "cell_type": "markdown",
      "source": [
        "3. 환율계산하는 코드자성\n",
        " - 원의 변수는 won\n",
        " - 달러의 변수는 usd\n",
        " - 환전의 변수는 exchage"
      ],
      "metadata": {
        "id": "E9flWcbGL5AP"
      }
    },
    {
      "cell_type": "code",
      "source": [
        "won = int(input(\"환전할 금액을 입력하세요 (KRW): \"))                                         # 사용자로부터 환전할 금액을 원화로 입력받아 won 변수에 저장합니다.\n",
        "usd = int(input(\"현재 달러의 환율을 입력하세요 (KRW:USD = 1:1372): \"))                       # 사용자로부터 현재 달러의 환율을 입력받아 usd 변수에 저장합니다.\n",
        "exchange = won // usd                                                                        # 입력받은 금액을 환율로 나누어 환전 금액을 계산하여 exchange 변수에 저장합니다.\n",
        "print(f'환전할 금액은 {won}이며, 달러 금액은 {usd}이고, 환전 금액은 {exchange}달러입니다.')  # 환전할 금액, 달러 금액, 환전 금액을 포맷팅하여 출력합니다."
      ],
      "metadata": {
        "colab": {
          "base_uri": "https://localhost:8080/"
        },
        "id": "T33bMo8zMdhE",
        "outputId": "2cae88e9-bccb-4c51-f39f-ce1c9ac44e1a"
      },
      "execution_count": null,
      "outputs": [
        {
          "output_type": "stream",
          "name": "stdout",
          "text": [
            "환전할 금액을 입력(kor): 5000\n",
            "현재 달러의 환율 입력(231031: 1372): 1372\n",
            "환전할 금액은 5000이며, 달러 금액은 1372이고, 환전금액은 3달러이다. \n"
          ]
        }
      ]
    },
    {
      "cell_type": "markdown",
      "source": [
        "4.화씨(fahrenheit)를 섭씨(celcius)로 변환하는 코드작성\n"
      ],
      "metadata": {
        "id": "bji0vygcOPwD"
      }
    },
    {
      "cell_type": "code",
      "source": [
        "fahrenheit = int(input(\"화씨 온도를 입력하시오: \"))                   # 사용자로부터 화씨 온도를 입력받아 fahrenheit 변수에 저장합니다.\n",
        "celcius = (fahrenheit - 32) / 1.8                                     # 화씨 온도를 섭씨 온도로 변환하여 celcius 변수에 저장합니다.\n",
        "print(f'화씨 온도는 {fahrenheit}이고, 섭씨 온도는 {celcius}입니다.')  # 화씨 온도와 변환된 섭씨 온도를 포맷팅하여 출력합니다."
      ],
      "metadata": {
        "colab": {
          "base_uri": "https://localhost:8080/"
        },
        "id": "qO2iA6TXOjLf",
        "outputId": "21cf8bc5-ef0e-4dfe-c1c6-ccfbb0e97fd8"
      },
      "execution_count": null,
      "outputs": [
        {
          "output_type": "stream",
          "name": "stdout",
          "text": [
            "화씨온도를 입력하시오.:100\n",
            "화씨온도는  100이고, 섭씨온도는 37.77777777777778입니다.\n"
          ]
        }
      ]
    },
    {
      "cell_type": "code",
      "source": [
        "celcius = float(input(\"섭씨 온도를 입력하시오: \"))                        # 사용자로부터 섭씨 온도를 입력받아 celcius 변수에 저장합니다.\n",
        "fahrenheit = (celcius * 1.8) + 32                                         # 섭씨 온도를 화씨 온도로 변환하여 fahrenheit 변수에 저장합니다.\n",
        "print(f'섭씨 온도는 {celcius}도이며, 화씨 온도는 {fahrenheit}도입니다.')  # 섭씨 온도와 변환된 화씨 온도를 포맷팅하여 출력합니다."
      ],
      "metadata": {
        "colab": {
          "base_uri": "https://localhost:8080/"
        },
        "id": "7VNawXUMQKAS",
        "outputId": "90581367-5030-4bfc-efed-36c7d85b68a8"
      },
      "execution_count": null,
      "outputs": [
        {
          "output_type": "stream",
          "name": "stdout",
          "text": [
            "섭씨온도를 입력하시오.:37.77777777777778\n",
            "섭씨온도는 37.77777777777778도는, 화씨 100.0도 입니다.\n"
          ]
        }
      ]
    },
    {
      "cell_type": "markdown",
      "source": [
        "5. 사용자로부터 2개의 정수를 받아서 합계를 출력"
      ],
      "metadata": {
        "id": "cc8vFFEWVQRW"
      }
    },
    {
      "cell_type": "code",
      "source": [
        "ㅍ\\x = int(input(\"x의 값을 입력하시오: \"))  # 사용자로부터 x의 값을 입력받아 x 변수에 저장합니다.\n",
        "y = int(input(\"y의 값을 입력하시오: \"))     # 사용자로부터 y의 값을 입력받아 y 변수에 저장합니다.\n",
        "sum = x + y                                 # x와 y를 더하여 합을 계산하여 sum 변수에 저장합니다.\n",
        "print(sum)                                  # 합을 출력합니다."
      ],
      "metadata": {
        "id": "732ktBnRVgxP",
        "outputId": "a91d50d9-50ad-43f7-8b56-df9385fa2a21",
        "colab": {
          "base_uri": "https://localhost:8080/"
        }
      },
      "execution_count": null,
      "outputs": [
        {
          "output_type": "stream",
          "name": "stdout",
          "text": [
            "x의 값을 입력하시오.:11\n",
            "y의 값을 입력하시오.:22\n",
            "33\n"
          ]
        }
      ]
    },
    {
      "cell_type": "markdown",
      "source": [
        "6. 부가세를 계산하시오."
      ],
      "metadata": {
        "id": "sbZlsueYW3W2"
      }
    },
    {
      "cell_type": "code",
      "source": [
        "price = int(input(\"상품의 가격을 입력하시오: \"))  # 사용자로부터 상품의 가격을 입력받아 price 변수에 저장합니다.\n",
        "vat = price * 0.1                                 # 가격에 10%의 부가가치세를 계산하여 vat 변수에 저장합니다.\n",
        "print(vat)                                        # 부가가치세를 출력합니다."
      ],
      "metadata": {
        "id": "CKZg6MKmW9ws",
        "outputId": "6a4b6850-d210-41fb-a15d-69bdb6916fbd",
        "colab": {
          "base_uri": "https://localhost:8080/"
        }
      },
      "execution_count": null,
      "outputs": [
        {
          "output_type": "stream",
          "name": "stdout",
          "text": [
            "상품의 가격을 입력하시오.: 4623\n",
            "462.3\n"
          ]
        }
      ]
    }
  ]
}