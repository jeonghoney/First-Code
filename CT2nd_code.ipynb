{
  "nbformat": 4,
  "nbformat_minor": 0,
  "metadata": {
    "colab": {
      "provenance": [],
      "authorship_tag": "ABX9TyPBQZDnFK9EjTwrYsCdYXbM",
      "include_colab_link": true
    },
    "kernelspec": {
      "name": "python3",
      "display_name": "Python 3"
    },
    "language_info": {
      "name": "python"
    }
  },
  "cells": [
    {
      "cell_type": "markdown",
      "metadata": {
        "id": "view-in-github",
        "colab_type": "text"
      },
      "source": [
        "<a href=\"https://colab.research.google.com/github/jeonghoney/First-Code/blob/main/CT2nd_code.ipynb\" target=\"_parent\"><img src=\"https://colab.research.google.com/assets/colab-badge.svg\" alt=\"Open In Colab\"/></a>"
      ]
    },
    {
      "cell_type": "markdown",
      "source": [
        "2번째 코딩\n",
        "- 사용자로부터 3개의 값을 받아서 합을내고, 평균을 출력하는코드"
      ],
      "metadata": {
        "id": "DHl5rDf4Kb8h"
      }
    },
    {
      "cell_type": "code",
      "execution_count": null,
      "metadata": {
        "colab": {
          "base_uri": "https://localhost:8080/"
        },
        "id": "ewKGYyxEGavF",
        "outputId": "35d5f18d-a7e9-4287-c904-3fc8b492c470"
      },
      "outputs": [
        {
          "output_type": "stream",
          "name": "stdout",
          "text": [
            "n1의 값을입력하시오.:40\n",
            "n2의 값을 입력하시오.:50\n",
            "n3의 값을 입력하시오.:60\n",
            "50.0\n"
          ]
        }
      ],
      "source": [
        "n1 = int(input(\"n1의 값을 입력하시오: \"))  # 사용자로부터 정수 값을 입력받아 n1 변수에 저장합니다.\n",
        "n2 = int(input(\"n2의 값을 입력하시오: \"))  # 사용자로부터 정수 값을 입력받아 n2 변수에 저장합니다.\n",
        "n3 = int(input(\"n3의 값을 입력하시오: \"))  # 사용자로부터 정수 값을 입력받아 n3 변수에 저장합니다.\n",
        "total = n1 + n2 + n3                       # n1, n2, n3 값을 모두 더하여 total 변수에 저장합니다.\n",
        "average = total / 3                        # total 값을 3으로 나누어 평균을 계산하여 average 변수에 저장합니다.\n",
        "print(average)                             # 계산된 평균 값을 출력합니다."
      ]
    },
    {
      "cell_type": "code",
      "source": [
        ")"
      ],
      "metadata": {
        "id": "foO5EeqrIuWy"
      },
      "execution_count": null,
      "outputs": []
    }
  ]
}