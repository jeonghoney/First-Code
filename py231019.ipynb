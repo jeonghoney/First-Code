{
  "nbformat": 4,
  "nbformat_minor": 0,
  "metadata": {
    "colab": {
      "provenance": [],
      "authorship_tag": "ABX9TyOswSsP8bmEVO2di8YF9CI6",
      "include_colab_link": true
    },
    "kernelspec": {
      "name": "python3",
      "display_name": "Python 3"
    },
    "language_info": {
      "name": "python"
    }
  },
  "cells": [
    {
      "cell_type": "markdown",
      "metadata": {
        "id": "view-in-github",
        "colab_type": "text"
      },
      "source": [
        "<a href=\"https://colab.research.google.com/github/jeonghoney/First-Code/blob/main/py231019.ipynb\" target=\"_parent\"><img src=\"https://colab.research.google.com/assets/colab-badge.svg\" alt=\"Open In Colab\"/></a>"
      ]
    },
    {
      "cell_type": "markdown",
      "source": [
        "1. To-Do list를 작성하시오\n",
        "-2023년 10월 19일 오정헌\n",
        "- (1) 9:00 행정학의 이해와 응용 수업\n",
        "- (2) 11:10 컴퓨팅적 사고와 기초코딩 수업\n",
        "- (3) 13:00 점심식사\n",
        "- (4) 14:10 교양수업\n",
        "- (5) 18:30 수영장 출근\n",
        "- (6) 19:00 수영 지도 시작\n",
        "- (7) 21:00 퇴근 및 휴식\n"
      ],
      "metadata": {
        "id": "Kbt-BEPSz7-s"
      }
    },
    {
      "cell_type": "code",
      "execution_count": 1,
      "metadata": {
        "colab": {
          "base_uri": "https://localhost:8080/"
        },
        "id": "3J9k6TQqzvWu",
        "outputId": "d831a81c-f555-4a09-e62c-afc84dc24b5b"
      },
      "outputs": [
        {
          "output_type": "stream",
          "name": "stdout",
          "text": [
            "To-do list\n",
            "(1)행정학의 이해와 응용 수업\n",
            "(2)11:10 컴퓨팅적 사고와 기초코딩 수업\n",
            "(3)13:00 점심식사\n",
            "(4)14:10 교양수업\n",
            "(5)18:30 수영장 출근\n",
            "(6)19:00 수영 지도 시작\n",
            "(7)21:00 퇴근 및 휴식\n"
          ]
        }
      ],
      "source": [
        "print(\"To-do list\")\n",
        "print(\"(1)행정학의 이해와 응용 수업\")\n",
        "print(\"(2)11:10 컴퓨팅적 사고와 기초코딩 수업\")\n",
        "print(\"(3)13:00 점심식사\")\n",
        "print(\"(4)14:10 교양수업\")\n",
        "print(\"(5)18:30 수영장 출근\")\n",
        "print(\"(6)19:00 수영 지도 시작\")\n",
        "print(\"(7)21:00 퇴근 및 휴식\")"
      ]
    },
    {
      "cell_type": "markdown",
      "source": [
        "2. 인사말 출력하기\n",
        "- 안녕하십니까! 형님"
      ],
      "metadata": {
        "id": "PyFvseWegkFR"
      }
    },
    {
      "cell_type": "code",
      "source": [
        "print(\"인사말 출력하기\")\n",
        "print(\"안녕하십니까! 형님\")"
      ],
      "metadata": {
        "colab": {
          "base_uri": "https://localhost:8080/"
        },
        "id": "UgBmQXVzg3H5",
        "outputId": "034e8dc6-9994-4311-fe91-56359e988c2e"
      },
      "execution_count": 2,
      "outputs": [
        {
          "output_type": "stream",
          "name": "stdout",
          "text": [
            "인사말 출력하기\n",
            "안녕하십니까! 형님\n"
          ]
        }
      ]
    },
    {
      "cell_type": "markdown",
      "source": [
        "3. 학생 4명의 수학점수를 입력받아서 아래와 같이 출력하시오\n",
        "- 주혜진:18점\n",
        "- 김지우:21점\n",
        "- 강민우:19점\n",
        "- 홍대경:3점\n",
        "- 1등 김지우\n",
        "- 2등 강민우\n",
        "- 3등 주혜진\n",
        "- 4등 홍대경"
      ],
      "metadata": {
        "id": "8HXkZJsShDXw"
      }
    },
    {
      "cell_type": "code",
      "source": [
        "n1 = (input(\"주혜진의 수학점수:  \"))\n",
        "n2 = (input(\"김지우의 수학점수:  \"))\n",
        "n3 = (input(\"강민우의 수학점수:  \"))\n",
        "n4 = (input(\"홍대경의 수학점수:  \"))\n",
        "print(\"1등 김지우\", n2, \"점\")\n",
        "print(\"2등 강민우\", n3, \"점\")\n",
        "print(\"3등 주혜진\", n1, \"점\")\n",
        "print(\"4등 홍대경\", n4, \"점\")"
      ],
      "metadata": {
        "colab": {
          "base_uri": "https://localhost:8080/"
        },
        "id": "8OT-9129iLWb",
        "outputId": "4c5a6434-f2dc-4228-9abe-61021369b120"
      },
      "execution_count": 3,
      "outputs": [
        {
          "output_type": "stream",
          "name": "stdout",
          "text": [
            "주혜진의 수학점수:  18\n",
            "김지우의 수학점수:  21\n",
            "강민우의 수학점수:  19\n",
            "홍대경의 수학점수:  3\n",
            "1등 김지우 21 점\n",
            "2등 강민우 19 점\n",
            "3등 주혜진 18 점\n",
            "4등 홍대경 3 점\n"
          ]
        }
      ]
    },
    {
      "cell_type": "markdown",
      "source": [
        "4. 두개의 점수를 입력받아서 합계와 평균을 출력하시오."
      ],
      "metadata": {
        "id": "7eAB5Spije_E"
      }
    },
    {
      "cell_type": "code",
      "source": [
        "n1 = int(input(\"n1의 값을 입력하시오.:\"))\n",
        "n2 = int(input(\"n2의 값을 입력하시오.:\"))\n",
        "total= n1+n2\n",
        "average = total / 2\n",
        "print(total)\n",
        "print(average)\n"
      ],
      "metadata": {
        "colab": {
          "base_uri": "https://localhost:8080/"
        },
        "id": "6waBx9yGjp1B",
        "outputId": "47c549e0-1f2b-48e1-8e06-3f9ec53acad2"
      },
      "execution_count": 4,
      "outputs": [
        {
          "output_type": "stream",
          "name": "stdout",
          "text": [
            "n1의 값을 입력하시오.:60\n",
            "n2의 값을 입력하시오.:65\n",
            "125\n",
            "62.5\n"
          ]
        }
      ]
    }
  ]
}