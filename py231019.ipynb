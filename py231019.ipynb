{
  "nbformat": 4,
  "nbformat_minor": 0,
  "metadata": {
    "colab": {
      "provenance": [],
      "authorship_tag": "ABX9TyN2mv1t2gBbLnf8Ik0DuBFc",
      "include_colab_link": true
    },
    "kernelspec": {
      "name": "python3",
      "display_name": "Python 3"
    },
    "language_info": {
      "name": "python"
    }
  },
  "cells": [
    {
      "cell_type": "markdown",
      "metadata": {
        "id": "view-in-github",
        "colab_type": "text"
      },
      "source": [
        "<a href=\"https://colab.research.google.com/github/jeonghoney/First-Code/blob/main/py231019.ipynb\" target=\"_parent\"><img src=\"https://colab.research.google.com/assets/colab-badge.svg\" alt=\"Open In Colab\"/></a>"
      ]
    },
    {
      "cell_type": "markdown",
      "source": [
        "1. To-Do list를 작성하시오\n",
        "-2023년 10월 19일 오정헌\n",
        "- (1) 도서관에서 책 빌리기\n",
        "- (2) 11:10 컴퓨팅적 사고와 기초코딩 수업\n",
        "- (3) 13:00 점심식사\n",
        "- (4) 14:10 교양수업\n",
        "- (5) 16:00 파이썬 공부 및 레포트 작성\n",
        "- (6) 17:40 저녁식사 및 집안일 돕기\n",
        "- (7) 19:00 LOL하기\n",
        "\n"
      ],
      "metadata": {
        "id": "Kbt-BEPSz7-s"
      }
    },
    {
      "cell_type": "code",
      "execution_count": null,
      "metadata": {
        "colab": {
          "base_uri": "https://localhost:8080/"
        },
        "id": "3J9k6TQqzvWu",
        "outputId": "9c133f4e-9156-42bf-910a-150f16a6988a"
      },
      "outputs": [
        {
          "output_type": "stream",
          "name": "stdout",
          "text": [
            "To-do list\n",
            "(1)도서관에서 책 빌리기\n",
            "(2)11:10 컴퓨팅적 사고와 기초코딩 수업\n",
            "(3)13:00 점심식사\n",
            "(4)14:10 교양수업\n",
            "(5)16:00 파이썬 공부 및 레포트 작성\n",
            "(6)17:40 저녁식사 및 집안일 돕기\n",
            "(7)19:00 LOL하기\n"
          ]
        }
      ],
      "source": [
        "print(\"To-do list\")\n",
        "print(\"(1)도서관에서 책 빌리기\")\n",
        "print(\"(2)11:10 컴퓨팅적 사고와 기초코딩 수업\")\n",
        "print(\"(3)13:00 점심식사\")\n",
        "print(\"(4)14:10 교양수업\")\n",
        "print(\"(5)16:00 파이썬 공부 및 레포트 작성\")\n",
        "print(\"(6)17:40 저녁식사 및 집안일 돕기\")\n",
        "print(\"(7)19:00 LOL하기\")"
      ]
    },
    {
      "cell_type": "markdown",
      "source": [
        "2. 인사말 출력하기\n",
        "- 식사하셨습니까? 형님\n"
      ],
      "metadata": {
        "id": "PyFvseWegkFR"
      }
    },
    {
      "cell_type": "code",
      "source": [
        "from google.colab import drive\n",
        "drive.mount('/content/drive')"
      ],
      "metadata": {
        "id": "6unuyEmK58fg"
      },
      "execution_count": null,
      "outputs": []
    },
    {
      "cell_type": "code",
      "source": [
        "print(\"인사말 출력하기\")\n",
        "print(\"식사하셨습니까? 형님\")"
      ],
      "metadata": {
        "colab": {
          "base_uri": "https://localhost:8080/"
        },
        "id": "UgBmQXVzg3H5",
        "outputId": "cff8f6df-5c6c-43cf-8c61-df8f4fd2b217"
      },
      "execution_count": null,
      "outputs": [
        {
          "output_type": "stream",
          "name": "stdout",
          "text": [
            "인사말 출력하기\n",
            "식사하셨습니까? 형님\n"
          ]
        }
      ]
    },
    {
      "cell_type": "markdown",
      "source": [
        "3. 학생 4명의 국어점수를 입력받아서 아래와 같이 출력하시오\n",
        "- 박보검: 90점\n",
        "- 션:92점\n",
        "- 도룡용:80점\n",
        "- 차은우:99점\n",
        "- 1등 차은우\n",
        "- 2등 션\n",
        "- 3등 박보검\n",
        "- 4등 도룡용"
      ],
      "metadata": {
        "id": "8HXkZJsShDXw"
      }
    },
    {
      "cell_type": "code",
      "source": [
        "n1 = (input(\"박보검의 국어점수:  \"))\n",
        "n2 = (input(\"션의 국어점수:  \"))\n",
        "n3 = (input(\"도룡용의 국어점수:  \"))\n",
        "n4 = (input(\"차은우의 국어점수:  \"))\n",
        "print(\"1등 차은우\", n4, \"점\")\n",
        "print(\"2등 션\", n2, \"점\")\n",
        "print(\"3등 박보검\", n1, \"점\")\n",
        "print(\"4등 도룡용\", n3, \"점\")"
      ],
      "metadata": {
        "colab": {
          "base_uri": "https://localhost:8080/"
        },
        "id": "8OT-9129iLWb",
        "outputId": "e8bf4609-a7d1-44c8-d3d6-ed0a17545542"
      },
      "execution_count": 1,
      "outputs": [
        {
          "output_type": "stream",
          "name": "stdout",
          "text": [
            "박보검의 국어점수:  90\n",
            "션의 국어점수:  92\n",
            "도룡용의 국어점수:  80\n",
            "차은우의 국어점수:  99\n",
            "1등 차은우 99 점\n",
            "2등 션 92 점\n",
            "3등 박보검 90 점\n",
            "4등 도룡용 80 점\n"
          ]
        }
      ]
    },
    {
      "cell_type": "markdown",
      "source": [
        "4. 두개의 점수를 입력받아서 합계와 평균을 출력하시오."
      ],
      "metadata": {
        "id": "7eAB5Spije_E"
      }
    },
    {
      "cell_type": "code",
      "source": [
        "n1 = int(input(\"n1의 값을 입력하시오.:\"))\n",
        "n2 = int(input(\"n2의 값을 입력하시오.:\"))\n",
        "total= n1+n2\n",
        "average = total / 2\n",
        "print(total)\n",
        "print(average)\n"
      ],
      "metadata": {
        "colab": {
          "base_uri": "https://localhost:8080/"
        },
        "id": "6waBx9yGjp1B",
        "outputId": "47c549e0-1f2b-48e1-8e06-3f9ec53acad2"
      },
      "execution_count": null,
      "outputs": [
        {
          "output_type": "stream",
          "name": "stdout",
          "text": [
            "n1의 값을 입력하시오.:60\n",
            "n2의 값을 입력하시오.:65\n",
            "125\n",
            "62.5\n"
          ]
        }
      ]
    }
  ]
}