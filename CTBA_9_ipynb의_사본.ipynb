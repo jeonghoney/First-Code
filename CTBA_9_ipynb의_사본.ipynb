{
  "nbformat": 4,
  "nbformat_minor": 0,
  "metadata": {
    "colab": {
      "provenance": [],
      "authorship_tag": "ABX9TyOSArQYtUbSJr//jBv+kN3D",
      "include_colab_link": true
    },
    "kernelspec": {
      "name": "python3",
      "display_name": "Python 3"
    },
    "language_info": {
      "name": "python"
    }
  },
  "cells": [
    {
      "cell_type": "markdown",
      "metadata": {
        "id": "view-in-github",
        "colab_type": "text"
      },
      "source": [
        "<a href=\"https://colab.research.google.com/github/jeonghoney/First-Code/blob/main/CTBA_9_ipynb%EC%9D%98_%EC%82%AC%EB%B3%B8.ipynb\" target=\"_parent\"><img src=\"https://colab.research.google.com/assets/colab-badge.svg\" alt=\"Open In Colab\"/></a>"
      ]
    },
    {
      "cell_type": "markdown",
      "source": [
        "1.두가지 이상의 선택, 다방향 선택구조 코딩\n",
        " - 배송료처리 3가지로 작성\n",
        " - 변수 : price, 가격 10만원이상 0원,\n",
        " 2만원이상 3000원, 그외 5천원"
      ],
      "metadata": {
        "id": "ou_C8xK0Mlsa"
      }
    },
    {
      "cell_type": "code",
      "source": [
        "print(\"배송료를 계산합니다.\")                           # \"배송료를 계산합니다.\"를 출력하는 부분입니다.\n",
        "print(\"#\" * 30)                                         # \"#\"을 30번 반복하여 출력하는 부분입니다.\n",
        "price = int(input(\"구입금액 입력: \"))                   # 사용자로부터 구입금액을 입력받는 부분입니다.\n",
        "if price >= 100000:                                     # 만약 구입금액이 100,000원 이상이라면\n",
        "  shipping_cost = 0                                     # 배송료는 0원입니다.\n",
        "else:                                                   # 그렇지 않고 (구입금액이 100,000원 미만일 때)\n",
        "  if price >= 20000:                                    # 만약 구입금액이 20,000원 이상이라면\n",
        "    shipping_cost = 3000                                # 배송료는 3,000원입니다.\n",
        "  else:                                                 # 그렇지 않고 (구입금액이 20,000원 미만일 때)\n",
        "    shipping_cost = 5000                                # 배송료는 5,000원입니다.\n",
        "print(f'배송료는 {shipping_cost}원 입니다.')            # 계산된 배송료를 출력하는 부분입니다."
      ],
      "metadata": {
        "colab": {
          "base_uri": "https://localhost:8080/"
        },
        "id": "S06jLiJkNLqj",
        "outputId": "15f6a5fd-3a57-4f12-f85f-c107338a2eda"
      },
      "execution_count": null,
      "outputs": [
        {
          "output_type": "stream",
          "name": "stdout",
          "text": [
            "배송료를 계산합니다.\n",
            "##############################\n",
            "구입금액 입력: 100000\n",
            "배송료는 0원 입니다.\n"
          ]
        }
      ]
    },
    {
      "cell_type": "markdown",
      "source": [
        "2.환영합니다 5번 출력, 10번 출력, 30번 출력"
      ],
      "metadata": {
        "id": "Kk6L9UsyO-sJ"
      }
    },
    {
      "cell_type": "code",
      "source": [
        "print(\"환영합니다.\")    #환영합니다 출력하느 부분입니다.\n",
        "print(\"환영합니다.\")    #환영합니다 출력하느 부분입니다.\n",
        "print(\"환영합니다.\")    #환영합니다 출력하느 부분입니다.\n",
        "print(\"환영합니다.\")    #환영합니다 출력하느 부분입니다."
      ],
      "metadata": {
        "colab": {
          "base_uri": "https://localhost:8080/"
        },
        "id": "BWOa0oZeOoaN",
        "outputId": "93521f34-d3a3-4908-f642-ecca870de0b9"
      },
      "execution_count": null,
      "outputs": [
        {
          "output_type": "stream",
          "name": "stdout",
          "text": [
            "환영합니다.\n",
            "환영합니다.\n",
            "환영합니다.\n",
            "환영합니다.\n"
          ]
        }
      ]
    },
    {
      "cell_type": "code",
      "source": [
        "print(\"환영합니다.\\n\" * 5)   #곱하기 문자를 사용하여 환영합니다를 5번 출력하는 부분입니다."
      ],
      "metadata": {
        "colab": {
          "base_uri": "https://localhost:8080/"
        },
        "id": "iA6PV9Z_PnqZ",
        "outputId": "68a3dcb1-dd04-4833-af9f-80d6cc667161"
      },
      "execution_count": null,
      "outputs": [
        {
          "output_type": "stream",
          "name": "stdout",
          "text": [
            "환영합니다.\n",
            "환영합니다.\n",
            "환영합니다.\n",
            "환영합니다.\n",
            "환영합니다.\n",
            "\n"
          ]
        }
      ]
    },
    {
      "cell_type": "code",
      "source": [
        "count = 1  # 초기 카운트 값을 1로 설정합니다.\n",
        "\n",
        "while count <= 5:  # count가 5보다 작거나 같은 동안 반복합니다.\n",
        "    #print(\"(\", count, \")\", \"환영합니다.\")  # 현재 count 값을 출력하고 \"환영합니다.\"를 출력합니다.\n",
        "    print(f'({count})환영합니다.')  # 현재 count 값을 출력하고 \"환영합니다.\"를 출력합니다.\n",
        "    count = count + 1  # count 값을 1씩 증가시킵니다.\n",
        "    #count += 1  # count 값을 1씩 증가시킵니다."
      ],
      "metadata": {
        "colab": {
          "base_uri": "https://localhost:8080/"
        },
        "id": "ELouBmDBSksX",
        "outputId": "5d50ca58-2bf0-485c-a074-903526fb332a"
      },
      "execution_count": null,
      "outputs": [
        {
          "output_type": "stream",
          "name": "stdout",
          "text": [
            "(1)환영합니다.\n",
            "(2)환영합니다.\n",
            "(3)환영합니다.\n",
            "(4)환영합니다.\n",
            "(5)환영합니다.\n"
          ]
        }
      ]
    },
    {
      "cell_type": "markdown",
      "source": [
        "3. 0부터 9까지 출력하는 코드 작성\n",
        " - 변수 : x"
      ],
      "metadata": {
        "id": "n2kPVGtHUtZf"
      }
    },
    {
      "cell_type": "code",
      "source": [
        "x = 0                    # 초기 x 값을 0으로 설정합니다.\n",
        "while x < 10:            # x가 10보다 작은 동안 반복합니다.\n",
        "    print(x, end=' ')    # 현재 x 값을 출력하고, 출력 후에 줄바꿈 대신 공백을 출력합니다.\n",
        "    x += 1               # x 값을 1씩 증가시킵니다."
      ],
      "metadata": {
        "colab": {
          "base_uri": "https://localhost:8080/"
        },
        "id": "AAzmaBQTU6_2",
        "outputId": "ff4b575e-2a73-4fac-bf33-e5630f23646c"
      },
      "execution_count": null,
      "outputs": [
        {
          "output_type": "stream",
          "name": "stdout",
          "text": [
            "0 1 2 3 4 5 6 7 8 9 "
          ]
        }
      ]
    },
    {
      "cell_type": "markdown",
      "source": [
        "4. 1부터 10까지 정수의 합을 계산하여 출력하는 코드"
      ],
      "metadata": {
        "id": "Tfz3_PsyYYaw"
      }
    },
    {
      "cell_type": "code",
      "source": [
        "x = 1                  # 초기 x 값을 1로 설정합니다.\n",
        "total = 0              # 초기 total 값을 0으로 설정합니다.\n",
        "while x <= 10:         # x가 10보다 작거나 같은 동안 반복합니다.\n",
        "    total = total + x  # 현재 total 값에 x 값을 더하여 업데이트합니다.\n",
        "    x += 1             # x 값을 1씩 증가시킵니다.\n",
        "print(total)           # 최종적으로 계산된 total 값을 출력합니다."
      ],
      "metadata": {
        "colab": {
          "base_uri": "https://localhost:8080/"
        },
        "id": "7Ngt7PxPYfsw",
        "outputId": "2a979e2e-6ddb-4d5a-b6e1-76a84fdc01e1"
      },
      "execution_count": null,
      "outputs": [
        {
          "output_type": "stream",
          "name": "stdout",
          "text": [
            "55\n"
          ]
        }
      ]
    },
    {
      "cell_type": "code",
      "source": [
        "x = 1           # 초기 x 값을 1로 설정합니다.\n",
        "while x <= 10:  # x가 10보다 작거나 같은 동안 반복합니다.\n",
        "    print(x)    # 현재 x 값을 출력합니다.\n",
        "    x += 1      # x 값을 1씩 증가시킵니다.\n"
      ],
      "metadata": {
        "colab": {
          "base_uri": "https://localhost:8080/"
        },
        "id": "Llur-SPiY66b",
        "outputId": "e9f65002-d289-4791-a29b-51e626a09f27"
      },
      "execution_count": null,
      "outputs": [
        {
          "output_type": "stream",
          "name": "stdout",
          "text": [
            "1\n",
            "2\n",
            "3\n",
            "4\n",
            "5\n",
            "6\n",
            "7\n",
            "8\n",
            "9\n",
            "10\n"
          ]
        }
      ]
    },
    {
      "cell_type": "markdown",
      "source": [
        "5. 3-6-9 게임(3의 배수 판단): 3의 배수를 3으로 나누면 나머지가 0이 되므로(i mod 3)의 값이 0이면 박수를 출력, 아니면 숫자를 출력해주는 코드"
      ],
      "metadata": {
        "id": "Ivq9qHBBVoi5"
      }
    },
    {
      "cell_type": "code",
      "source": [
        "i = 1                           # 변수 i는 0으로 선언\n",
        "while i <+ 30:                  # 반복문 while 사용해서 i가 30보다 작거나 같을때\n",
        "  if i % 3 == 0:                # 만약 i값을 3으로 난누 나머지가 0이면\n",
        "    print(\"박수\", end=' ')      # 박수를 출력하고 공백을 하난 만듦\n",
        "  else:                         # 위의 것이 아니면,\n",
        "    print(i, end=' ')           # i값만 출력하고 공백 하나 만듦\n",
        "  i += 1                        # 변수 i값에 i와 1을 더해서 다시 변수 i에 선언"
      ],
      "metadata": {
        "colab": {
          "base_uri": "https://localhost:8080/"
        },
        "id": "Ozem8ubvWIO5",
        "outputId": "df5269c2-57f7-470e-cfbc-535fedd5dd1b"
      },
      "execution_count": null,
      "outputs": [
        {
          "output_type": "stream",
          "name": "stdout",
          "text": [
            "1 2 박수 4 5 박수 7 8 박수 10 11 박수 13 14 박수 16 17 박수 19 20 박수 22 23 박수 25 26 박수 28 29 "
          ]
        }
      ]
    },
    {
      "cell_type": "code",
      "source": [
        "for num in range (1, 11):       # 1부터 11까지의 숫자를 반복\n",
        "  if num % 3 == 0:              # 숫자(num)를  3으로 나눈 나머지가 0인 경우\n",
        "    print(\"박수\", end=' ')      # 박수를 출력하고 공백 만듦\n",
        "  else:                         # 그게 아니면\n",
        "    print(num, end=' ')         # 숫자만 출력하고 공백 만듦"
      ],
      "metadata": {
        "id": "AhF0KKo1ZPfO"
      },
      "execution_count": null,
      "outputs": []
    },
    {
      "cell_type": "markdown",
      "source": [
        "6. 팩토리얼 계산하는 코드 작성"
      ],
      "metadata": {
        "id": "-HWafOO9aog4"
      }
    },
    {
      "cell_type": "code",
      "source": [
        "i = 4                             # 초기 i 값을 4로 설정합니다.\n",
        "factorial = 1                     # 초기 factorial 값을 1로 설정합니다.\n",
        "while i >= 1:                     # i가 1보다 크거나 같은 동안 반복합니다.\n",
        "    factorial = factorial * i     # 현재 factorial 값에 i 값을 곱하여 업데이트합니다.\n",
        "    i -= 1                        # i 값을 1씩 감소시킵니다.\n",
        "print(factorial)                  # 최종적으로 계산된 factorial 값을 출력합니다."
      ],
      "metadata": {
        "colab": {
          "base_uri": "https://localhost:8080/"
        },
        "id": "c_VW6qmVauwi",
        "outputId": "bf49f9a2-838a-415e-e353-cf7ea33239e2"
      },
      "execution_count": null,
      "outputs": [
        {
          "output_type": "stream",
          "name": "stdout",
          "text": [
            "24\n"
          ]
        }
      ]
    },
    {
      "cell_type": "code",
      "source": [
        "num = int(input(\"팩토리얼 값 입력: \"))      # 사용자로부터 정수 값을 입력받아 num 변수에 저장합니다.\n",
        "factorial = 1                               # 초기 factorial 값을 1로 설정합니다.\n",
        "while num >= 1:                             # num이 1보다 크거나 같은 동안 반복합니다.\n",
        "    factorial = factorial * num            # 현재 factorial 값에 num 값을 곱하여 업데이트합니다.\n",
        "    num -= 1                               # num 값을 1씩 감소시킵니다.\n",
        "print(\"계산된 팩토리얼 값은:\", factorial)  # 최종적으로 계산된 factorial 값을 출력합니다.\n"
      ],
      "metadata": {
        "colab": {
          "base_uri": "https://localhost:8080/"
        },
        "id": "58xTyo4abgoK",
        "outputId": "d9516dfc-42db-44ce-fadb-50a5d6ea4460"
      },
      "execution_count": null,
      "outputs": [
        {
          "output_type": "stream",
          "name": "stdout",
          "text": [
            "팩토리얼 값입력: 5\n",
            "계산된 팩토리얼 값은 : 120\n"
          ]
        }
      ]
    }
  ]
}