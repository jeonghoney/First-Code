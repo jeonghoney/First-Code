{
  "nbformat": 4,
  "nbformat_minor": 0,
  "metadata": {
    "colab": {
      "provenance": [],
      "authorship_tag": "ABX9TyNsnhfSG2rhvj5L05O926yg",
      "include_colab_link": true
    },
    "kernelspec": {
      "name": "python3",
      "display_name": "Python 3"
    },
    "language_info": {
      "name": "python"
    }
  },
  "cells": [
    {
      "cell_type": "markdown",
      "metadata": {
        "id": "view-in-github",
        "colab_type": "text"
      },
      "source": [
        "<a href=\"https://colab.research.google.com/github/jeonghoney/First-Code/blob/main/CTBL_1.ipynb\" target=\"_parent\"><img src=\"https://colab.research.google.com/assets/colab-badge.svg\" alt=\"Open In Colab\"/></a>"
      ]
    },
    {
      "cell_type": "markdown",
      "source": [
        "\n",
        "1.학생으로부터 성적을 입력받아 합격유뮤를 출력하는 코드작성\n",
        " - 사용변수: Grade\n",
        " - 사용수식: Grade>= 70"
      ],
      "metadata": {
        "id": "URBlSpd904zp"
      }
    },
    {
      "cell_type": "code",
      "source": [
        "Grade = int(input(\"성적입력: \"))\n",
        "if Grade >= 70:\n",
        "  print(\"70점 이상이므로 합격\")\n",
        "else:\n",
        "  print(\"70이하는 불합격\")"
      ],
      "metadata": {
        "colab": {
          "base_uri": "https://localhost:8080/"
        },
        "id": "YMH04Sx71PwM",
        "outputId": "a8d52a48-9bc8-4cb3-96cf-bb0a88cc5f94"
      },
      "execution_count": 1,
      "outputs": [
        {
          "output_type": "stream",
          "name": "stdout",
          "text": [
            "성적입력: 80\n",
            "70점 이상이므로 합격\n"
          ]
        }
      ]
    },
    {
      "cell_type": "markdown",
      "source": [
        "2.쇼핑몰의 배송료르 계산하는 코드작성\n",
        " - 변수명: price, shipping_cost\n",
        " - 수식: price >= 20000\n",
        " - shipping_cost = 3000"
      ],
      "metadata": {
        "id": "m_RhHP8W3qlK"
      }
    },
    {
      "cell_type": "code",
      "source": [
        "price = int(input(\"구입금액 입력: \"))\n",
        "if price >= 20000:\n",
        "  shipping_cost = 0\n",
        "  print(f'구입금액이 {price}원 이상입니다.')\n",
        "else:\n",
        "  shipping_cost = 3000\n",
        "  print(\"구입금액이 2만원 이하입니다\")\n",
        "print(f'회원님의 배송료는 {shipping_cost}원 입니다.')\n"
      ],
      "metadata": {
        "colab": {
          "base_uri": "https://localhost:8080/"
        },
        "id": "SGoRVz914FXx",
        "outputId": "eacb9644-7d45-452c-d366-019632672436"
      },
      "execution_count": 2,
      "outputs": [
        {
          "output_type": "stream",
          "name": "stdout",
          "text": [
            "구입금액 입력: 23000\n",
            "구입금액이 23000원 이상입니다.\n",
            "회원님의 배송료는 0원 입니다.\n"
          ]
        }
      ]
    },
    {
      "cell_type": "markdown",
      "source": [
        "3. 근무시간에 따라 초과근무와 정상근무를 판별하는 코드작성\n",
        " - 변수: work_hour\n",
        " - 수식: >=, 기준시간:72시간"
      ],
      "metadata": {
        "id": "TO3cXioa8FI6"
      }
    },
    {
      "cell_type": "markdown",
      "source": [
        "4.정수를 입력받아서 짝수이지 홀수인지 판별하는 코드작성\n",
        " - 변수: num\n",
        " - 수식: (num % 2) !=0:"
      ],
      "metadata": {
        "id": "CT9NT-8Y-DZp"
      }
    },
    {
      "cell_type": "code",
      "source": [
        "num = int(input(\"정수를 입력하시오: \"))\n",
        "if (num % 2) !=0:\n",
        "  print(\"홀수입니다. \")\n",
        "else:\n",
        "  print(\"짝수입니다. \")"
      ],
      "metadata": {
        "colab": {
          "base_uri": "https://localhost:8080/"
        },
        "id": "gpIb3fmh-hOB",
        "outputId": "0d09b7fb-7c89-48a9-eeb3-051add33f9b8"
      },
      "execution_count": 3,
      "outputs": [
        {
          "output_type": "stream",
          "name": "stdout",
          "text": [
            "정수를 입력하시오: 5\n",
            "홀수입니다. \n"
          ]
        }
      ]
    },
    {
      "cell_type": "markdown",
      "source": [
        "5. 사용자의 이름과 나이를 입력받고 답변하는 코드작성\n",
        " - 입력 : 성명 -name\n",
        " - 입력 : 나이 -age\n",
        " - 수식 :if age <= 20:\n",
        "\n",
        "최종 출력물\n",
        " - 이름을 입력하시오.:***\n",
        " - 나이를 입력하시오 : **\n",
        " -(1) 프로그래밍을 배우는 최적의 나이입니다.\n",
        " -(2) 아직도 늦지 않았습니다. 도전정신"
      ],
      "metadata": {
        "id": "itoepwJnBTvs"
      }
    },
    {
      "cell_type": "code",
      "source": [
        "name = input(\"이름을 입력하시오. :\")\n",
        "age = int(input(\"나이를 입력하시오. :\"))\n",
        "if age <=20:\n",
        "  print(\"프로그래밍을 배우는 최적의 나이입니다.\")\n",
        "else:\n",
        "  print(\"아직도 늦지 않았습니다.  도전정신\")"
      ],
      "metadata": {
        "colab": {
          "base_uri": "https://localhost:8080/"
        },
        "id": "oe-YRKMFB_Ck",
        "outputId": "31cb625e-50e6-406c-f2d0-8f66560230a9"
      },
      "execution_count": 4,
      "outputs": [
        {
          "output_type": "stream",
          "name": "stdout",
          "text": [
            "이름을 입력하시오. :오정헌법개요\n",
            "나이를 입력하시오. :19\n",
            "프로그래밍을 배우는 최적의 나이입니다.\n"
          ]
        }
      ]
    },
    {
      "cell_type": "code",
      "source": [
        "import random  # 랜덤 모듈을 임포트합니다. 이 모듈은 무작위 값을 생성할 때 사용합니다.\n",
        "\n",
        "def generate_lotto_numbers():  # 로또 번호를 생성하는 함수를 정의합니다.\n",
        "    numbers = []  # 로또 번호를 저장할 빈 리스트를 생성합니다.\n",
        "\n",
        "    while len(numbers) < 6:  # 로또 번호 6개가 모두 생성될 때까지 반복합니다.\n",
        "        num = random.randint(1, 45)  # 1부터 45 사이의 랜덤한 정수를 생성합니다.\n",
        "        if num not in numbers:  # 생성된 번호가 이미 리스트에 없는 경우에만 추가합니다.\n",
        "            numbers.append(num)\n",
        "\n",
        "    return sorted(numbers)  # 생성된 번호를 정렬하여 반환합니다.\n",
        "\n",
        "# 로또 번호를 생성하고 출력하는 메인 코드입니다.\n",
        "lotto_numbers = generate_lotto_numbers()\n",
        "print(\"생성된 로또 번호: \", lotto_numbers)"
      ],
      "metadata": {
        "colab": {
          "base_uri": "https://localhost:8080/"
        },
        "id": "POfYBZabFWBZ",
        "outputId": "57e417a9-14d2-4f76-ccfc-7e01793b5a60"
      },
      "execution_count": 5,
      "outputs": [
        {
          "output_type": "stream",
          "name": "stdout",
          "text": [
            "생성된 로또 번호:  [1, 11, 18, 22, 24, 33]\n"
          ]
        }
      ]
    },
    {
      "cell_type": "code",
      "source": [
        "# 사용자로부터 이름과 나이를 입력받습니다.\n",
        "name = input(\"이름을 입력해주세요: \")\n",
        "age = int(input(\"나이를 입력해주세요: \"))  # 받은 나이를 정수형으로 변환합니다.\n",
        "\n",
        "# 나이가 20살 이하인지 검사합니다.\n",
        "if age <= 20:\n",
        "    # 나이가 20살 이하라면, 프로그래밍을 배우는 최적의 나이라고 출력합니다.\n",
        "    print(name + \"님, 프로그래밍을 배우는 최적의 나이입니다.\")\n",
        "else:\n",
        "    # 나이가 20살 이상이라면, 아직도 늦지 않았습니다. 도전정신이라고 출력합니다.\n",
        "    print(name + \"님, 아직도 늦지 않았습니다. 도전정신을 가져보세요!\")"
      ],
      "metadata": {
        "colab": {
          "base_uri": "https://localhost:8080/"
        },
        "id": "FpcOXbAQGrT9",
        "outputId": "001c2070-6ccb-462d-9322-5f8cd831468d"
      },
      "execution_count": 7,
      "outputs": [
        {
          "output_type": "stream",
          "name": "stdout",
          "text": [
            "이름을 입력해주세요: 오정헌법개요\n",
            "나이를 입력해주세요: 123456\n",
            "오정헌법개요님, 아직도 늦지 않았습니다. 도전정신을 가져보세요!\n"
          ]
        }
      ]
    }
  ]
}